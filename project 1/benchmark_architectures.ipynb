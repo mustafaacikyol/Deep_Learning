{
 "cells": [
  {
   "cell_type": "code",
   "execution_count": null,
   "metadata": {},
   "outputs": [],
   "source": [
    "from fastai.vision.all import *\n",
    "from pathlib import Path\n",
    "from fastai.metrics import *\n",
    "from fastai.interpret import ClassificationInterpretation"
   ]
  },
  {
   "cell_type": "code",
   "execution_count": null,
   "metadata": {},
   "outputs": [],
   "source": [
    "# Set the path to your dataset (replace 'path_to_your_dataset' with the actual path)\n",
    "path = Path('D:/AI Project Guidelines/project 1/data')"
   ]
  },
  {
   "cell_type": "code",
   "execution_count": null,
   "metadata": {},
   "outputs": [],
   "source": [
    "# Define data augmentation transforms\n",
    "aug_transforms = aug_transforms(do_flip=True, flip_vert=False, max_rotate=45.0, min_zoom=1.0, max_zoom=1.1, max_lighting=0.2, max_warp=0.2, p_affine=0.75, p_lighting=0.75)"
   ]
  },
  {
   "cell_type": "code",
   "execution_count": null,
   "metadata": {},
   "outputs": [],
   "source": [
    "# Define the data loader\n",
    "data = ImageDataLoaders.from_folder(path, train='train', valid='valid', seed=42, item_tfms=Resize(224), batch_tfms=[Normalize.from_stats(*imagenet_stats)], bs=4)\n",
    "# Assuming you have already created the data object\n",
    "data.show_batch(max_n=4)"
   ]
  },
  {
   "cell_type": "code",
   "execution_count": null,
   "metadata": {},
   "outputs": [],
   "source": [
    "data.vocab"
   ]
  },
  {
   "cell_type": "code",
   "execution_count": null,
   "metadata": {},
   "outputs": [],
   "source": [
    "# Assuming you have already created the data object\n",
    "# xb, yb = data.one_batch()\n",
    "# print(xb.shape)"
   ]
  },
  {
   "cell_type": "code",
   "execution_count": null,
   "metadata": {},
   "outputs": [],
   "source": [
    "# Visualize a batch of augmented images\n",
    "data.train.show_batch(max_n=4, nrows=2, figsize=(15, 15))"
   ]
  },
  {
   "cell_type": "code",
   "execution_count": null,
   "metadata": {},
   "outputs": [],
   "source": [
    "# Specify metrics as a list of metric functions\n",
    "metrics = [accuracy, Precision(), Recall(), error_rate]\n",
    "# Define the model\n",
    "resnet_learn = vision_learner(data, resnet34, metrics=metrics)\n",
    "vgg_learn = vision_learner(data, vgg16_bn, metrics=metrics)\n",
    "densenet_learn = vision_learner(data, densenet121, metrics=metrics)"
   ]
  },
  {
   "cell_type": "code",
   "execution_count": null,
   "metadata": {},
   "outputs": [],
   "source": [
    "# print(densenet_learn.model)"
   ]
  },
  {
   "cell_type": "code",
   "execution_count": null,
   "metadata": {},
   "outputs": [],
   "source": [
    "# Find a suitable learning rate\n",
    "resnet_learn.lr_find()"
   ]
  },
  {
   "cell_type": "code",
   "execution_count": null,
   "metadata": {},
   "outputs": [],
   "source": [
    "# Train the resnet model\n",
    "resnet_learn.fine_tune(4, base_lr=0.00363078061491251)"
   ]
  },
  {
   "cell_type": "code",
   "execution_count": null,
   "metadata": {},
   "outputs": [],
   "source": [
    "resnet_learn.show_results(max_n=4, figsize=(10, 10))"
   ]
  },
  {
   "cell_type": "code",
   "execution_count": null,
   "metadata": {},
   "outputs": [],
   "source": [
    "# Assuming 'learn' is your learner\n",
    "interp = ClassificationInterpretation.from_learner(resnet_learn)\n",
    "\n",
    "# Plot top losses\n",
    "interp.plot_top_losses(9, figsize=(15, 15))"
   ]
  },
  {
   "cell_type": "code",
   "execution_count": null,
   "metadata": {},
   "outputs": [],
   "source": [
    "interp = ClassificationInterpretation.from_learner(resnet_learn)\n",
    "interp.plot_confusion_matrix()"
   ]
  },
  {
   "cell_type": "code",
   "execution_count": null,
   "metadata": {},
   "outputs": [],
   "source": [
    "# Find a suitable learning rate\n",
    "vgg_learn.lr_find()"
   ]
  },
  {
   "cell_type": "code",
   "execution_count": null,
   "metadata": {},
   "outputs": [],
   "source": [
    "# Train the vgg model\n",
    "vgg_learn.fine_tune(1)"
   ]
  },
  {
   "cell_type": "code",
   "execution_count": null,
   "metadata": {},
   "outputs": [],
   "source": [
    "vgg_learn.show_results(max_n=4, figsize=(10, 10))"
   ]
  },
  {
   "cell_type": "code",
   "execution_count": null,
   "metadata": {},
   "outputs": [],
   "source": [
    "# Assuming 'learn' is your learner\n",
    "interp = ClassificationInterpretation.from_learner(vgg_learn)\n",
    "\n",
    "# Plot top losses\n",
    "interp.plot_top_losses(9, figsize=(15, 15))"
   ]
  },
  {
   "cell_type": "code",
   "execution_count": null,
   "metadata": {},
   "outputs": [],
   "source": [
    "interp = ClassificationInterpretation.from_learner(vgg_learn)\n",
    "interp.plot_confusion_matrix()"
   ]
  },
  {
   "cell_type": "code",
   "execution_count": null,
   "metadata": {},
   "outputs": [],
   "source": [
    "# Find a suitable learning rate\n",
    "densenet_learn.lr_find()"
   ]
  },
  {
   "cell_type": "code",
   "execution_count": null,
   "metadata": {},
   "outputs": [],
   "source": [
    "# Train the vgg model\n",
    "densenet_learn.fine_tune(3) "
   ]
  },
  {
   "cell_type": "code",
   "execution_count": null,
   "metadata": {},
   "outputs": [],
   "source": [
    "densenet_learn.show_results(max_n=4, figsize=(10, 10))"
   ]
  },
  {
   "cell_type": "code",
   "execution_count": null,
   "metadata": {},
   "outputs": [],
   "source": [
    "# Assuming 'learn' is your learner\n",
    "interp = ClassificationInterpretation.from_learner(densenet_learn)\n",
    "\n",
    "# Plot top losses\n",
    "interp.plot_top_losses(9, figsize=(15, 15))"
   ]
  },
  {
   "cell_type": "code",
   "execution_count": null,
   "metadata": {},
   "outputs": [],
   "source": [
    "interp = ClassificationInterpretation.from_learner(densenet_learn)\n",
    "interp.plot_confusion_matrix()"
   ]
  },
  {
   "cell_type": "code",
   "execution_count": null,
   "metadata": {},
   "outputs": [],
   "source": [
    "# Save the model\n",
    "# learn.save('bike_model')"
   ]
  },
  {
   "cell_type": "code",
   "execution_count": null,
   "metadata": {},
   "outputs": [],
   "source": [
    "# Export the model for inference\n",
    "resnet_learn.export('D:/AI Project Guidelines/project 1/models/resnet_model.pkl')\n",
    "vgg_learn.export('D:/AI Project Guidelines/project 1/models/vgg_model.pkl')\n",
    "densenet_learn.export('D:/AI Project Guidelines/project 1/models/densenet_model.pkl')"
   ]
  },
  {
   "cell_type": "code",
   "execution_count": null,
   "metadata": {},
   "outputs": [],
   "source": [
    "# Load the trained model for inference\n",
    "learn = load_learner('D:/AI Project Guidelines/project 1/models/resnet_model.pkl')\n",
    "\n",
    "# Make predictions on a new image\n",
    "img = PILImage.create('D:/AI Project Guidelines/project 1/samples/sample5.jpeg')\n",
    "prediction, _, _ = learn.predict(img)\n",
    "print(f'The image is a {prediction}')\n"
   ]
  },
  {
   "cell_type": "code",
   "execution_count": null,
   "metadata": {},
   "outputs": [],
   "source": [
    "# Load the trained model for inference\n",
    "learn = load_learner('D:/AI Project Guidelines/project 1/models/vgg_model.pkl')\n",
    "\n",
    "# Make predictions on a new image\n",
    "img = PILImage.create('D:/AI Project Guidelines/project 1/samples/sample5.jpeg')\n",
    "prediction, _, _ = learn.predict(img)\n",
    "print(f'The image is a {prediction}')\n"
   ]
  },
  {
   "cell_type": "code",
   "execution_count": null,
   "metadata": {},
   "outputs": [],
   "source": [
    "# Load the trained model for inference\n",
    "learn = load_learner('D:/AI Project Guidelines/project 1/models/densenet_model.pkl')\n",
    "\n",
    "# Make predictions on a new image\n",
    "img = PILImage.create('D:/AI Project Guidelines/project 1/samples/sample5.jpeg')\n",
    "prediction, _, _ = learn.predict(img)\n",
    "print(f'The image is a {prediction}')"
   ]
  }
 ],
 "metadata": {
  "kernelspec": {
   "display_name": "Python 3",
   "language": "python",
   "name": "python3"
  },
  "language_info": {
   "codemirror_mode": {
    "name": "ipython",
    "version": 3
   },
   "file_extension": ".py",
   "mimetype": "text/x-python",
   "name": "python",
   "nbconvert_exporter": "python",
   "pygments_lexer": "ipython3",
   "version": "3.11.3"
  }
 },
 "nbformat": 4,
 "nbformat_minor": 2
}
