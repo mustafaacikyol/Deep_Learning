{
 "cells": [
  {
   "cell_type": "code",
   "execution_count": 19,
   "metadata": {},
   "outputs": [],
   "source": [
    "import requests\n",
    "import os\n",
    "import re\n",
    "from urllib.parse import urlparse, parse_qs"
   ]
  },
  {
   "cell_type": "code",
   "execution_count": 20,
   "metadata": {},
   "outputs": [],
   "source": [
    "\n",
    "api_key = open(\"API_KEY\").read()\n",
    "search_engine_id = open('SEARCH_ENGINE_ID').read()\n",
    "search_query = 'truck'\n",
    "save_dir = 'collection/not_bikes/'"
   ]
  },
  {
   "cell_type": "code",
   "execution_count": 21,
   "metadata": {},
   "outputs": [],
   "source": [
    "# Create a directory to save images if it doesn't exist\n",
    "os.makedirs(save_dir, exist_ok=True)"
   ]
  },
  {
   "cell_type": "code",
   "execution_count": 22,
   "metadata": {},
   "outputs": [],
   "source": [
    "# Set the number of results you want per request\n",
    "results_per_request = 10\n",
    "total_results = 40  # Set the total number of results you want"
   ]
  },
  {
   "cell_type": "code",
   "execution_count": 23,
   "metadata": {},
   "outputs": [],
   "source": [
    "# Calculate the number of requests needed\n",
    "num_requests = total_results // results_per_request + (total_results % results_per_request > 0)"
   ]
  },
  {
   "cell_type": "code",
   "execution_count": 24,
   "metadata": {},
   "outputs": [
    {
     "name": "stdout",
     "output_type": "stream",
     "text": [
      "Image 1 saved at: collection/not_bikes/truck_1.jpg\n",
      "Image 2 saved at: collection/not_bikes/truck_2.jpg\n",
      "Image 3 saved at: collection/not_bikes/truck_3.jpg\n",
      "Image 4 saved at: collection/not_bikes/truck_4.jpg\n",
      "Image 5 saved at: collection/not_bikes/truck_5.jpg\n",
      "Image 6 saved at: collection/not_bikes/truck_6.png\n",
      "Image 7 saved at: collection/not_bikes/truck_7.jpg\n",
      "Image 8 saved at: collection/not_bikes/truck_8.jpg\n",
      "Image 9 saved at: collection/not_bikes/truck_9.jpg\n",
      "Image 10 saved at: collection/not_bikes/truck_10.jpg\n",
      "Image 11 saved at: collection/not_bikes/truck_11.jpg\n",
      "Image 12 saved at: collection/not_bikes/truck_12.jpg\n",
      "Image 13 saved at: collection/not_bikes/truck_13.jpg\n",
      "Image 14 saved at: collection/not_bikes/truck_14.png\n",
      "Image 15 saved at: collection/not_bikes/truck_15.webp\n",
      "Image 16 saved at: collection/not_bikes/truck_16.jpg\n",
      "Image 17 saved at: collection/not_bikes/truck_17.jpg\n",
      "Image 18 saved at: collection/not_bikes/truck_18.png\n",
      "Image 19 saved at: collection/not_bikes/truck_19.jpg\n",
      "Image 20 saved at: collection/not_bikes/truck_20.jpg\n",
      "Image 21 saved at: collection/not_bikes/truck_21.jpg\n",
      "Image 22 saved at: collection/not_bikes/truck_22.jpg\n",
      "Image 23 saved at: collection/not_bikes/truck_23.jpg\n",
      "Image 24 saved at: collection/not_bikes/truck_24.webp\n",
      "Image 25 saved at: collection/not_bikes/truck_25.jpg\n",
      "Image 26 saved at: collection/not_bikes/truck_26.png\n",
      "Image 27 saved at: collection/not_bikes/truck_27.jpg\n",
      "Image 28 saved at: collection/not_bikes/truck_28.jpg\n",
      "Image 29 saved at: collection/not_bikes/truck_29.jpg\n",
      "Image 30 saved at: collection/not_bikes/truck_30.jpg\n",
      "Image 31 saved at: collection/not_bikes/truck_31.jpg\n",
      "Image 32 saved at: collection/not_bikes/truck_32.jpg\n",
      "Image 33 saved at: collection/not_bikes/truck_33.jpg\n",
      "Image 34 saved at: collection/not_bikes/truck_34.jpg\n",
      "Image 35 saved at: collection/not_bikes/truck_35.jpg\n",
      "Image 36 saved at: collection/not_bikes/truck_36.jpg\n",
      "Image 37 saved at: collection/not_bikes/truck_37.jpg\n",
      "Image 38 saved at: collection/not_bikes/truck_38.jpeg\n",
      "Image 39 saved at: collection/not_bikes/truck_39.tif\n",
      "Image 40 saved at: collection/not_bikes/truck_40.jpg\n"
     ]
    }
   ],
   "source": [
    "for request_num in range(num_requests):\n",
    "    start_index = request_num * results_per_request + 1\n",
    "\n",
    "    url = 'https://www.googleapis.com/customsearch/v1'\n",
    "    params = {\n",
    "        'q': search_query,\n",
    "        'key': api_key,\n",
    "        'cx': search_engine_id,\n",
    "        'searchType': 'image',\n",
    "        'start': start_index,  # Specify the start index for pagination\n",
    "        'num': results_per_request  # Specify the number of results per request\n",
    "    }\n",
    "\n",
    "    response = requests.get(url, params=params)\n",
    "    results = response.json().get('items', [])\n",
    "\n",
    "    for i, item in enumerate(results):\n",
    "        image_url = item['link']\n",
    "\n",
    "        # Remove query parameters from the image URL\n",
    "        parsed_url = urlparse(image_url)\n",
    "        clean_url = parsed_url._replace(query='').geturl()\n",
    "\n",
    "        # Extract the file extension from the URL\n",
    "        file_extension = os.path.splitext(clean_url)[1]\n",
    "\n",
    "        # Remove invalid characters from the filename\n",
    "        clean_filename = re.sub(r'[\\/:*?\"<>|]', '', f'{search_query}_{start_index + i}')\n",
    "\n",
    "        # Save the image to the specified directory\n",
    "        image_path = os.path.join(save_dir, f'{clean_filename}{file_extension}')\n",
    "        with open(image_path, 'wb') as image_file:\n",
    "            image_file.write(requests.get(clean_url).content)\n",
    "\n",
    "        print(f\"Image {start_index + i} saved at: {image_path}\")"
   ]
  },
  {
   "cell_type": "code",
   "execution_count": null,
   "metadata": {},
   "outputs": [],
   "source": []
  }
 ],
 "metadata": {
  "kernelspec": {
   "display_name": "Python 3",
   "language": "python",
   "name": "python3"
  },
  "language_info": {
   "codemirror_mode": {
    "name": "ipython",
    "version": 3
   },
   "file_extension": ".py",
   "mimetype": "text/x-python",
   "name": "python",
   "nbconvert_exporter": "python",
   "pygments_lexer": "ipython3",
   "version": "3.11.3"
  }
 },
 "nbformat": 4,
 "nbformat_minor": 2
}
