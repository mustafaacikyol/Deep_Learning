{
 "cells": [
  {
   "cell_type": "code",
   "execution_count": 8,
   "metadata": {},
   "outputs": [],
   "source": [
    "import requests\n",
    "import os\n",
    "import re\n",
    "from urllib.parse import urlparse, parse_qs"
   ]
  },
  {
   "cell_type": "code",
   "execution_count": 9,
   "metadata": {},
   "outputs": [],
   "source": [
    "api_key = open(\"API_KEY\").read()\n",
    "search_engine_id = open('SEARCH_ENGINE_ID').read()\n",
    "search_query = 'bike'\n",
    "save_dir = 'collection/bikes/'"
   ]
  },
  {
   "cell_type": "code",
   "execution_count": 10,
   "metadata": {},
   "outputs": [],
   "source": [
    "# Create a directory to save images if it doesn't exist\n",
    "os.makedirs(save_dir, exist_ok=True)"
   ]
  },
  {
   "cell_type": "code",
   "execution_count": 11,
   "metadata": {},
   "outputs": [],
   "source": [
    "# Set the number of results you want per request\n",
    "results_per_request = 10\n",
    "total_results = 30  # Set the total number of results you want"
   ]
  },
  {
   "cell_type": "code",
   "execution_count": 12,
   "metadata": {},
   "outputs": [],
   "source": [
    "# Calculate the number of requests needed\n",
    "num_requests = total_results // results_per_request + (total_results % results_per_request > 0)"
   ]
  },
  {
   "cell_type": "code",
   "execution_count": 13,
   "metadata": {},
   "outputs": [
    {
     "name": "stdout",
     "output_type": "stream",
     "text": [
      "0\n",
      "1\n",
      "1\n",
      "11\n"
     ]
    }
   ],
   "source": [
    "for request_num in range(num_requests):\n",
    "    # print(request_num)\n",
    "    start_index = request_num * results_per_request + 1\n",
    "    # print(start_index)\n",
    "    url = 'https://www.googleapis.com/customsearch/v1'\n",
    "    params = {\n",
    "        'q': search_query,\n",
    "        'key': api_key,\n",
    "        'cx': search_engine_id,\n",
    "        'searchType': 'image',\n",
    "        'start': start_index,  # Specify the start index for pagination\n",
    "        'num': results_per_request  # Specify the number of results per request\n",
    "    }\n",
    "\n",
    "    response = requests.get(url, params=params)\n",
    "    results = response.json().get('items', [])\n",
    "\n",
    "    for i, item in enumerate(results):\n",
    "        image_url = item['link']\n",
    "\n",
    "        # Remove query parameters from the image URL\n",
    "        parsed_url = urlparse(image_url)\n",
    "        clean_url = parsed_url._replace(query='').geturl()\n",
    "\n",
    "        # Extract the file extension from the URL\n",
    "        file_extension = os.path.splitext(clean_url)[1]\n",
    "\n",
    "        # Remove invalid characters from the filename\n",
    "        clean_filename = re.sub(r'[\\/:*?\"<>|]', '', f'bike_image_{start_index + i}')\n",
    "\n",
    "        # Save the image to the specified directory\n",
    "        image_path = os.path.join(save_dir, f'{clean_filename}{file_extension}')\n",
    "        with open(image_path, 'wb') as image_file:\n",
    "            image_file.write(requests.get(clean_url).content)\n",
    "\n",
    "        print(f\"Image {start_index + i} saved at: {image_path}\")"
   ]
  },
  {
   "cell_type": "code",
   "execution_count": 14,
   "metadata": {},
   "outputs": [
    {
     "data": {
      "text/plain": [
       "' start_index = 1\\n\\nwhile start_index <= total_results:\\n    url = \\'https://www.googleapis.com/customsearch/v1\\'\\n    params = {\\n        \\'q\\': search_query,\\n        \\'key\\': api_key,\\n        \\'cx\\': search_engine_id,\\n        \\'searchType\\': \\'image\\',\\n        \\'start\\': start_index,\\n        \\'num\\': results_per_request\\n    }\\n\\n    response = requests.get(url, params=params)\\n    results = response.json().get(\\'items\\', [])\\n\\n    if not results:\\n        break  # No more results\\n\\n    for i, item in enumerate(results):\\n        image_url = item[\\'link\\']\\n\\n        # Remove query parameters from the image URL\\n        parsed_url = urlparse(image_url)\\n        clean_url = parsed_url._replace(query=\\'\\').geturl()\\n\\n        # Extract the file extension from the URL\\n        file_extension = os.path.splitext(clean_url)[1]\\n\\n        # Remove invalid characters from the filename\\n        clean_filename = re.sub(r\\'[\\\\/:*?\"<>|]\\', \\'\\', f\\'bike_image_{start_index + i}\\')\\n\\n        # Save the image to the specified directory\\n        image_path = os.path.join(save_dir, f\\'{clean_filename}{file_extension}\\')\\n        with open(image_path, \\'wb\\') as image_file:\\n            image_file.write(requests.get(clean_url).content)\\n\\n        print(f\"Image {start_index + i} saved at: {image_path}\")\\n\\n    start_index += results_per_request '"
      ]
     },
     "execution_count": 14,
     "metadata": {},
     "output_type": "execute_result"
    }
   ],
   "source": [
    "\"\"\" start_index = 1\n",
    "\n",
    "while start_index <= total_results:\n",
    "    url = 'https://www.googleapis.com/customsearch/v1'\n",
    "    params = {\n",
    "        'q': search_query,\n",
    "        'key': api_key,\n",
    "        'cx': search_engine_id,\n",
    "        'searchType': 'image',\n",
    "        'start': start_index,\n",
    "        'num': results_per_request\n",
    "    }\n",
    "\n",
    "    response = requests.get(url, params=params)\n",
    "    results = response.json().get('items', [])\n",
    "\n",
    "    if not results:\n",
    "        break  # No more results\n",
    "\n",
    "    for i, item in enumerate(results):\n",
    "        image_url = item['link']\n",
    "\n",
    "        # Remove query parameters from the image URL\n",
    "        parsed_url = urlparse(image_url)\n",
    "        clean_url = parsed_url._replace(query='').geturl()\n",
    "\n",
    "        # Extract the file extension from the URL\n",
    "        file_extension = os.path.splitext(clean_url)[1]\n",
    "\n",
    "        # Remove invalid characters from the filename\n",
    "        clean_filename = re.sub(r'[\\/:*?\"<>|]', '', f'bike_image_{start_index + i}')\n",
    "\n",
    "        # Save the image to the specified directory\n",
    "        image_path = os.path.join(save_dir, f'{clean_filename}{file_extension}')\n",
    "        with open(image_path, 'wb') as image_file:\n",
    "            image_file.write(requests.get(clean_url).content)\n",
    "\n",
    "        print(f\"Image {start_index + i} saved at: {image_path}\")\n",
    "\n",
    "    start_index += results_per_request \"\"\""
   ]
  }
 ],
 "metadata": {
  "kernelspec": {
   "display_name": "Python 3",
   "language": "python",
   "name": "python3"
  },
  "language_info": {
   "codemirror_mode": {
    "name": "ipython",
    "version": 3
   },
   "file_extension": ".py",
   "mimetype": "text/x-python",
   "name": "python",
   "nbconvert_exporter": "python",
   "pygments_lexer": "ipython3",
   "version": "3.11.3"
  }
 },
 "nbformat": 4,
 "nbformat_minor": 2
}
