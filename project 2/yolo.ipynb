{
 "cells": [
  {
   "cell_type": "code",
   "execution_count": 1,
   "metadata": {},
   "outputs": [],
   "source": [
    "from fastai.vision.all import *\n",
    "from ultralytics import YOLO"
   ]
  },
  {
   "cell_type": "code",
   "execution_count": 2,
   "metadata": {},
   "outputs": [
    {
     "name": "stdout",
     "output_type": "stream",
     "text": [
      "Downloading https://github.com/ultralytics/assets/releases/download/v8.1.0/yolov8m.pt to 'yolov8m.pt'...\n"
     ]
    },
    {
     "name": "stderr",
     "output_type": "stream",
     "text": [
      "100%|██████████| 49.7M/49.7M [00:04<00:00, 11.2MB/s]\n"
     ]
    }
   ],
   "source": [
    "model = YOLO(\"yolov8m.pt\")"
   ]
  },
  {
   "cell_type": "code",
   "execution_count": 3,
   "metadata": {},
   "outputs": [],
   "source": [
    "# Define your path to the dataset containing images with bikes and humans\n",
    "path = Path(\"D:/AI Project Guidelines/project 2/data\")"
   ]
  },
  {
   "cell_type": "code",
   "execution_count": 4,
   "metadata": {},
   "outputs": [
    {
     "name": "stdout",
     "output_type": "stream",
     "text": [
      "\n",
      "image 1/1 d:\\AI Project Guidelines\\project 2\\0aca2e10d8580f5e.jpg: 448x640 2 persons, 1 boat, 2315.2ms\n",
      "Speed: 218.9ms preprocess, 2315.2ms inference, 194.7ms postprocess per image at shape (1, 3, 448, 640)\n"
     ]
    }
   ],
   "source": [
    "results = model.predict(\"0aca2e10d8580f5e.jpg\")"
   ]
  },
  {
   "cell_type": "code",
   "execution_count": 5,
   "metadata": {},
   "outputs": [
    {
     "name": "stdout",
     "output_type": "stream",
     "text": [
      "\n",
      "image 1/1 d:\\AI Project Guidelines\\project 2\\1fd783e47a5a621a.jpg: 640x480 1 person, 1 bottle, 1 hair drier, 1423.6ms\n",
      "Speed: 41.7ms preprocess, 1423.6ms inference, 15.6ms postprocess per image at shape (1, 3, 640, 480)\n"
     ]
    }
   ],
   "source": [
    "results = model.predict(\"1fd783e47a5a621a.jpg\")"
   ]
  },
  {
   "cell_type": "code",
   "execution_count": 6,
   "metadata": {},
   "outputs": [
    {
     "name": "stdout",
     "output_type": "stream",
     "text": [
      "\n",
      "image 1/1 d:\\AI Project Guidelines\\project 2\\5f444b75460fadfb.jpg: 448x640 24 persons, 2 backpacks, 2 handbags, 1381.9ms\n",
      "Speed: 27.4ms preprocess, 1381.9ms inference, 50.7ms postprocess per image at shape (1, 3, 448, 640)\n"
     ]
    }
   ],
   "source": [
    "results = model.predict(\"5f444b75460fadfb.jpg\")"
   ]
  },
  {
   "cell_type": "code",
   "execution_count": 15,
   "metadata": {},
   "outputs": [
    {
     "data": {
      "text/plain": [
       "ultralytics.engine.results.Results object with attributes:\n",
       "\n",
       "boxes: ultralytics.engine.results.Boxes object\n",
       "keypoints: None\n",
       "masks: None\n",
       "names: {0: 'person', 1: 'bicycle', 2: 'car', 3: 'motorcycle', 4: 'airplane', 5: 'bus', 6: 'train', 7: 'truck', 8: 'boat', 9: 'traffic light', 10: 'fire hydrant', 11: 'stop sign', 12: 'parking meter', 13: 'bench', 14: 'bird', 15: 'cat', 16: 'dog', 17: 'horse', 18: 'sheep', 19: 'cow', 20: 'elephant', 21: 'bear', 22: 'zebra', 23: 'giraffe', 24: 'backpack', 25: 'umbrella', 26: 'handbag', 27: 'tie', 28: 'suitcase', 29: 'frisbee', 30: 'skis', 31: 'snowboard', 32: 'sports ball', 33: 'kite', 34: 'baseball bat', 35: 'baseball glove', 36: 'skateboard', 37: 'surfboard', 38: 'tennis racket', 39: 'bottle', 40: 'wine glass', 41: 'cup', 42: 'fork', 43: 'knife', 44: 'spoon', 45: 'bowl', 46: 'banana', 47: 'apple', 48: 'sandwich', 49: 'orange', 50: 'broccoli', 51: 'carrot', 52: 'hot dog', 53: 'pizza', 54: 'donut', 55: 'cake', 56: 'chair', 57: 'couch', 58: 'potted plant', 59: 'bed', 60: 'dining table', 61: 'toilet', 62: 'tv', 63: 'laptop', 64: 'mouse', 65: 'remote', 66: 'keyboard', 67: 'cell phone', 68: 'microwave', 69: 'oven', 70: 'toaster', 71: 'sink', 72: 'refrigerator', 73: 'book', 74: 'clock', 75: 'vase', 76: 'scissors', 77: 'teddy bear', 78: 'hair drier', 79: 'toothbrush'}\n",
       "obb: None\n",
       "orig_img: array([[[213, 235, 233],\n",
       "        [212, 234, 232],\n",
       "        [212, 234, 232],\n",
       "        ...,\n",
       "        [175, 207, 202],\n",
       "        [176, 206, 201],\n",
       "        [175, 205, 200]],\n",
       "\n",
       "       [[212, 234, 232],\n",
       "        [212, 234, 232],\n",
       "        [212, 234, 232],\n",
       "        ...,\n",
       "        [176, 208, 203],\n",
       "        [177, 207, 202],\n",
       "        [176, 206, 201]],\n",
       "\n",
       "       [[210, 234, 232],\n",
       "        [210, 234, 232],\n",
       "        [213, 235, 233],\n",
       "        ...,\n",
       "        [176, 208, 203],\n",
       "        [175, 207, 202],\n",
       "        [174, 206, 201]],\n",
       "\n",
       "       ...,\n",
       "\n",
       "       [[ 18,  53,  87],\n",
       "        [  8,  43,  77],\n",
       "        [  6,  43,  77],\n",
       "        ...,\n",
       "        [ 93, 155, 191],\n",
       "        [ 85, 148, 182],\n",
       "        [ 85, 148, 182]],\n",
       "\n",
       "       [[ 62,  93, 126],\n",
       "        [ 36,  67, 100],\n",
       "        [ 20,  53,  86],\n",
       "        ...,\n",
       "        [ 89, 151, 187],\n",
       "        [ 86, 149, 183],\n",
       "        [ 66, 130, 161]],\n",
       "\n",
       "       [[ 91, 119, 153],\n",
       "        [109, 137, 171],\n",
       "        [101, 132, 165],\n",
       "        ...,\n",
       "        [101, 164, 198],\n",
       "        [ 91, 154, 188],\n",
       "        [ 77, 141, 172]]], dtype=uint8)\n",
       "orig_shape: (678, 1024)\n",
       "path: 'd:\\\\AI Project Guidelines\\\\project 2\\\\5f444b75460fadfb.jpg'\n",
       "probs: None\n",
       "save_dir: None\n",
       "speed: {'preprocess': 27.406692504882812, 'inference': 1381.9243907928467, 'postprocess': 50.73690414428711}"
      ]
     },
     "execution_count": 15,
     "metadata": {},
     "output_type": "execute_result"
    }
   ],
   "source": [
    "result = results[0]\n",
    "result"
   ]
  },
  {
   "cell_type": "code",
   "execution_count": 9,
   "metadata": {},
   "outputs": [
    {
     "data": {
      "text/plain": [
       "28"
      ]
     },
     "execution_count": 9,
     "metadata": {},
     "output_type": "execute_result"
    }
   ],
   "source": [
    "len(result.boxes)"
   ]
  },
  {
   "cell_type": "code",
   "execution_count": 10,
   "metadata": {},
   "outputs": [],
   "source": [
    "box = result.boxes[0]"
   ]
  },
  {
   "cell_type": "code",
   "execution_count": 11,
   "metadata": {},
   "outputs": [
    {
     "name": "stdout",
     "output_type": "stream",
     "text": [
      "Object type: tensor([0.])\n",
      "Coordinates: tensor([[664.5142, 420.7374, 798.7443, 657.1753]])\n",
      "Probability: tensor([0.9178])\n"
     ]
    }
   ],
   "source": [
    "print(\"Object type:\", box.cls)\n",
    "print(\"Coordinates:\", box.xyxy)\n",
    "print(\"Probability:\", box.conf)"
   ]
  },
  {
   "cell_type": "code",
   "execution_count": 12,
   "metadata": {},
   "outputs": [
    {
     "name": "stdout",
     "output_type": "stream",
     "text": [
      "Object type: tensor(0.)\n",
      "Coordinates: tensor([664.5142, 420.7374, 798.7443, 657.1753])\n",
      "Probability: tensor(0.9178)\n"
     ]
    }
   ],
   "source": [
    "print(\"Object type:\",box.cls[0])\n",
    "print(\"Coordinates:\",box.xyxy[0])\n",
    "print(\"Probability:\",box.conf[0])"
   ]
  },
  {
   "cell_type": "code",
   "execution_count": 13,
   "metadata": {},
   "outputs": [
    {
     "name": "stdout",
     "output_type": "stream",
     "text": [
      "Object type: 0.0\n",
      "Coordinates: [664.51416015625, 420.7373962402344, 798.7442626953125, 657.17529296875]\n",
      "Probability: 0.9178258776664734\n"
     ]
    }
   ],
   "source": [
    "cords = box.xyxy[0].tolist()\n",
    "class_id = box.cls[0].item()\n",
    "conf = box.conf[0].item()\n",
    "print(\"Object type:\", class_id)\n",
    "print(\"Coordinates:\", cords)\n",
    "print(\"Probability:\", conf)"
   ]
  },
  {
   "cell_type": "code",
   "execution_count": 16,
   "metadata": {},
   "outputs": [
    {
     "name": "stdout",
     "output_type": "stream",
     "text": [
      "Object type: person\n",
      "Coordinates: [665, 421, 799, 657]\n",
      "Probability: 0.92\n"
     ]
    }
   ],
   "source": [
    "cords = box.xyxy[0].tolist()\n",
    "cords = [round(x) for x in cords]\n",
    "class_id = result.names[box.cls[0].item()]\n",
    "conf = round(box.conf[0].item(), 2)\n",
    "print(\"Object type:\", class_id)\n",
    "print(\"Coordinates:\", cords)\n",
    "print(\"Probability:\", conf)"
   ]
  },
  {
   "cell_type": "code",
   "execution_count": 17,
   "metadata": {},
   "outputs": [
    {
     "name": "stdout",
     "output_type": "stream",
     "text": [
      "Object type: person\n",
      "Coordinates: [665, 421, 799, 657]\n",
      "Probability: 0.92\n",
      "---\n",
      "Object type: person\n",
      "Coordinates: [889, 353, 933, 472]\n",
      "Probability: 0.79\n",
      "---\n",
      "Object type: person\n",
      "Coordinates: [0, 346, 31, 478]\n",
      "Probability: 0.74\n",
      "---\n",
      "Object type: person\n",
      "Coordinates: [445, 359, 492, 473]\n",
      "Probability: 0.72\n",
      "---\n",
      "Object type: person\n",
      "Coordinates: [930, 358, 963, 478]\n",
      "Probability: 0.71\n",
      "---\n",
      "Object type: person\n",
      "Coordinates: [204, 349, 236, 467]\n",
      "Probability: 0.68\n",
      "---\n",
      "Object type: person\n",
      "Coordinates: [656, 361, 689, 471]\n",
      "Probability: 0.66\n",
      "---\n",
      "Object type: person\n",
      "Coordinates: [278, 335, 314, 430]\n",
      "Probability: 0.66\n",
      "---\n",
      "Object type: person\n",
      "Coordinates: [53, 323, 90, 436]\n",
      "Probability: 0.64\n",
      "---\n",
      "Object type: person\n",
      "Coordinates: [230, 350, 257, 457]\n",
      "Probability: 0.63\n",
      "---\n",
      "Object type: person\n",
      "Coordinates: [971, 349, 1011, 452]\n",
      "Probability: 0.62\n",
      "---\n",
      "Object type: person\n",
      "Coordinates: [530, 324, 566, 430]\n",
      "Probability: 0.61\n",
      "---\n",
      "Object type: person\n",
      "Coordinates: [701, 348, 739, 435]\n",
      "Probability: 0.52\n",
      "---\n",
      "Object type: person\n",
      "Coordinates: [820, 335, 848, 415]\n",
      "Probability: 0.51\n",
      "---\n",
      "Object type: person\n",
      "Coordinates: [858, 321, 887, 400]\n",
      "Probability: 0.5\n",
      "---\n",
      "Object type: person\n",
      "Coordinates: [566, 324, 593, 404]\n",
      "Probability: 0.49\n",
      "---\n",
      "Object type: person\n",
      "Coordinates: [388, 330, 413, 405]\n",
      "Probability: 0.43\n",
      "---\n",
      "Object type: person\n",
      "Coordinates: [620, 330, 645, 421]\n",
      "Probability: 0.42\n",
      "---\n",
      "Object type: backpack\n",
      "Coordinates: [182, 414, 209, 443]\n",
      "Probability: 0.36\n",
      "---\n",
      "Object type: handbag\n",
      "Coordinates: [439, 495, 464, 525]\n",
      "Probability: 0.34\n",
      "---\n",
      "Object type: person\n",
      "Coordinates: [246, 331, 273, 381]\n",
      "Probability: 0.33\n",
      "---\n",
      "Object type: person\n",
      "Coordinates: [110, 323, 143, 410]\n",
      "Probability: 0.33\n",
      "---\n",
      "Object type: backpack\n",
      "Coordinates: [987, 458, 1024, 481]\n",
      "Probability: 0.29\n",
      "---\n",
      "Object type: person\n",
      "Coordinates: [772, 323, 796, 402]\n",
      "Probability: 0.29\n",
      "---\n",
      "Object type: person\n",
      "Coordinates: [504, 328, 528, 399]\n",
      "Probability: 0.27\n",
      "---\n",
      "Object type: person\n",
      "Coordinates: [794, 327, 822, 399]\n",
      "Probability: 0.27\n",
      "---\n",
      "Object type: person\n",
      "Coordinates: [368, 320, 387, 390]\n",
      "Probability: 0.27\n",
      "---\n",
      "Object type: handbag\n",
      "Coordinates: [416, 486, 444, 527]\n",
      "Probability: 0.26\n",
      "---\n"
     ]
    }
   ],
   "source": [
    "for box in result.boxes:\n",
    "  class_id = result.names[box.cls[0].item()]\n",
    "  cords = box.xyxy[0].tolist()\n",
    "  cords = [round(x) for x in cords]\n",
    "  conf = round(box.conf[0].item(), 2)\n",
    "  print(\"Object type:\", class_id)\n",
    "  print(\"Coordinates:\", cords)\n",
    "  print(\"Probability:\", conf)\n",
    "  print(\"---\")"
   ]
  },
  {
   "cell_type": "code",
   "execution_count": null,
   "metadata": {},
   "outputs": [],
   "source": []
  },
  {
   "cell_type": "code",
   "execution_count": null,
   "metadata": {},
   "outputs": [],
   "source": []
  },
  {
   "cell_type": "code",
   "execution_count": null,
   "metadata": {},
   "outputs": [],
   "source": [
    "\"\"\" def get_y(o):\n",
    "    # Read YOLO format annotations from the text file\n",
    "    with open(o[0]) as f:\n",
    "        lines = f.readlines()\n",
    "\n",
    "    # Extract bounding box coordinates and labels\n",
    "    boxes = []\n",
    "    labels = []\n",
    "    for line in lines:\n",
    "        parts = line.strip().split()\n",
    "        label = parts[0]\n",
    "        x_center, y_center, width, height = map(float, parts[1:])\n",
    "        bbox = [x_center, y_center, width, height]\n",
    "        boxes.append(bbox)\n",
    "        labels.append(label)\n",
    "\n",
    "    return boxes, labels \"\"\"\n"
   ]
  },
  {
   "cell_type": "code",
   "execution_count": null,
   "metadata": {},
   "outputs": [],
   "source": [
    "\"\"\" # Define the DataBlock for object detection\n",
    "dblock = DataBlock(blocks=(ImageBlock, BBoxBlock, BBoxLblBlock),\n",
    "                   get_items=get_image_files,\n",
    "                   splitter=RandomSplitter(valid_pct=0.2, seed=42),\n",
    "                   get_y=lambda o: (o.with_suffix('.txt'), [0, 1]),  # Assuming annotations are in YOLO format\n",
    "                   item_tfms=Resize(460),\n",
    "                   batch_tfms=aug_transforms(size=224, min_scale=0.8)) \"\"\""
   ]
  },
  {
   "cell_type": "code",
   "execution_count": null,
   "metadata": {},
   "outputs": [],
   "source": [
    "# dls = dblock.dataloaders(path)"
   ]
  },
  {
   "cell_type": "code",
   "execution_count": null,
   "metadata": {},
   "outputs": [],
   "source": []
  }
 ],
 "metadata": {
  "kernelspec": {
   "display_name": "Python 3",
   "language": "python",
   "name": "python3"
  },
  "language_info": {
   "codemirror_mode": {
    "name": "ipython",
    "version": 3
   },
   "file_extension": ".py",
   "mimetype": "text/x-python",
   "name": "python",
   "nbconvert_exporter": "python",
   "pygments_lexer": "ipython3",
   "version": "3.11.3"
  }
 },
 "nbformat": 4,
 "nbformat_minor": 2
}
